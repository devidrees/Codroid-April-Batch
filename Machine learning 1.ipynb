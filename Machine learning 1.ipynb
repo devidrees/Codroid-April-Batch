{
 "cells": [
  {
   "cell_type": "code",
   "execution_count": 1,
   "id": "a62d66b3",
   "metadata": {},
   "outputs": [],
   "source": [
    "import numpy as np\n",
    "import pandas as pd\n",
    "\n",
    "from sklearn.model_selection import train_test_split\n",
    "from sklearn.linear_model import LinearRegression\n",
    "\n",
    "import matplotlib.pyplot as plt"
   ]
  },
  {
   "cell_type": "code",
   "execution_count": 3,
   "id": "2cd28ff0",
   "metadata": {},
   "outputs": [
    {
     "data": {
      "text/html": [
       "<div>\n",
       "<style scoped>\n",
       "    .dataframe tbody tr th:only-of-type {\n",
       "        vertical-align: middle;\n",
       "    }\n",
       "\n",
       "    .dataframe tbody tr th {\n",
       "        vertical-align: top;\n",
       "    }\n",
       "\n",
       "    .dataframe thead th {\n",
       "        text-align: right;\n",
       "    }\n",
       "</style>\n",
       "<table border=\"1\" class=\"dataframe\">\n",
       "  <thead>\n",
       "    <tr style=\"text-align: right;\">\n",
       "      <th></th>\n",
       "      <th>House Size (sq ft)</th>\n",
       "      <th>House Price ($)</th>\n",
       "    </tr>\n",
       "  </thead>\n",
       "  <tbody>\n",
       "    <tr>\n",
       "      <th>0</th>\n",
       "      <td>1184</td>\n",
       "      <td>240853.977840</td>\n",
       "    </tr>\n",
       "    <tr>\n",
       "      <th>1</th>\n",
       "      <td>1059</td>\n",
       "      <td>212986.065852</td>\n",
       "    </tr>\n",
       "    <tr>\n",
       "      <th>2</th>\n",
       "      <td>2153</td>\n",
       "      <td>443144.140683</td>\n",
       "    </tr>\n",
       "    <tr>\n",
       "      <th>3</th>\n",
       "      <td>1716</td>\n",
       "      <td>357391.020408</td>\n",
       "    </tr>\n",
       "    <tr>\n",
       "      <th>4</th>\n",
       "      <td>1335</td>\n",
       "      <td>259561.439171</td>\n",
       "    </tr>\n",
       "    <tr>\n",
       "      <th>...</th>\n",
       "      <td>...</td>\n",
       "      <td>...</td>\n",
       "    </tr>\n",
       "    <tr>\n",
       "      <th>95</th>\n",
       "      <td>2089</td>\n",
       "      <td>432858.383628</td>\n",
       "    </tr>\n",
       "    <tr>\n",
       "      <th>96</th>\n",
       "      <td>1408</td>\n",
       "      <td>282645.209233</td>\n",
       "    </tr>\n",
       "    <tr>\n",
       "      <th>97</th>\n",
       "      <td>1133</td>\n",
       "      <td>224239.568494</td>\n",
       "    </tr>\n",
       "    <tr>\n",
       "      <th>98</th>\n",
       "      <td>2462</td>\n",
       "      <td>500594.350339</td>\n",
       "    </tr>\n",
       "    <tr>\n",
       "      <th>99</th>\n",
       "      <td>584</td>\n",
       "      <td>120828.564387</td>\n",
       "    </tr>\n",
       "  </tbody>\n",
       "</table>\n",
       "<p>100 rows × 2 columns</p>\n",
       "</div>"
      ],
      "text/plain": [
       "    House Size (sq ft)  House Price ($)\n",
       "0                 1184    240853.977840\n",
       "1                 1059    212986.065852\n",
       "2                 2153    443144.140683\n",
       "3                 1716    357391.020408\n",
       "4                 1335    259561.439171\n",
       "..                 ...              ...\n",
       "95                2089    432858.383628\n",
       "96                1408    282645.209233\n",
       "97                1133    224239.568494\n",
       "98                2462    500594.350339\n",
       "99                 584    120828.564387\n",
       "\n",
       "[100 rows x 2 columns]"
      ]
     },
     "execution_count": 3,
     "metadata": {},
     "output_type": "execute_result"
    }
   ],
   "source": [
    "# Step 2: Load the dataset, house price prediction\n",
    "\n",
    "np.random.seed(0)\n",
    "house_size = np.random.randint(500, 2500, size=100)\n",
    "\n",
    "house_price = house_size * 200 + np.random.normal(0, 10000, size=100)\n",
    "\n",
    "\n",
    "data = pd.DataFrame({\n",
    "    'House Size (sq ft)': house_size,\n",
    "    'House Price ($)': house_price\n",
    "})\n",
    "data"
   ]
  },
  {
   "cell_type": "markdown",
   "id": "e7e3a56e",
   "metadata": {},
   "source": [
    "Supervised Learning"
   ]
  },
  {
   "cell_type": "code",
   "execution_count": 7,
   "id": "f6aafb8c",
   "metadata": {},
   "outputs": [],
   "source": [
    "# Step 3: Specify the features and target variable\n",
    "X = data[['House Size (sq ft)']]\n",
    "y = data['House Price ($)']\n",
    "\n",
    "\n",
    "# X = x1,x2,x3,...,xn size, bedroom,location, etc.\n",
    "# y only one variable"
   ]
  },
  {
   "cell_type": "code",
   "execution_count": 8,
   "id": "d560114f",
   "metadata": {},
   "outputs": [],
   "source": [
    "# Step 4: Split the dataset into training and testing sets\n",
    "\n",
    "X_train, X_test, y_train, y_test = train_test_split(X, y, test_size=0.2, random_state=0)\n"
   ]
  },
  {
   "cell_type": "code",
   "execution_count": 9,
   "id": "25d55040",
   "metadata": {},
   "outputs": [
    {
     "name": "stdout",
     "output_type": "stream",
     "text": [
      "1 2222 3 4\n"
     ]
    }
   ],
   "source": [
    "a,b,c,d = 1,2222,3,4\n",
    "\n",
    "print(a, b, c, d)"
   ]
  },
  {
   "cell_type": "code",
   "execution_count": 12,
   "id": "e3492481",
   "metadata": {},
   "outputs": [
    {
     "data": {
      "text/plain": [
       "26    444483.035665\n",
       "86    477417.172852\n",
       "2     443144.140683\n",
       "55    228599.740722\n",
       "75    172017.774131\n",
       "93    196192.766407\n",
       "16    223679.744741\n",
       "73    133166.445628\n",
       "54    224647.760707\n",
       "95    432858.383628\n",
       "53    210711.434779\n",
       "92    498815.132754\n",
       "78    390675.324031\n",
       "13    219948.733161\n",
       "7     388090.761254\n",
       "30    266533.403496\n",
       "22    128161.210375\n",
       "24    433329.259575\n",
       "33    284491.030085\n",
       "8     294664.217481\n",
       "Name: House Price ($), dtype: float64"
      ]
     },
     "execution_count": 12,
     "metadata": {},
     "output_type": "execute_result"
    }
   ],
   "source": [
    "y_test"
   ]
  },
  {
   "cell_type": "code",
   "execution_count": 13,
   "id": "9b391cbe",
   "metadata": {},
   "outputs": [
    {
     "data": {
      "text/html": [
       "<style>#sk-container-id-1 {color: black;}#sk-container-id-1 pre{padding: 0;}#sk-container-id-1 div.sk-toggleable {background-color: white;}#sk-container-id-1 label.sk-toggleable__label {cursor: pointer;display: block;width: 100%;margin-bottom: 0;padding: 0.3em;box-sizing: border-box;text-align: center;}#sk-container-id-1 label.sk-toggleable__label-arrow:before {content: \"▸\";float: left;margin-right: 0.25em;color: #696969;}#sk-container-id-1 label.sk-toggleable__label-arrow:hover:before {color: black;}#sk-container-id-1 div.sk-estimator:hover label.sk-toggleable__label-arrow:before {color: black;}#sk-container-id-1 div.sk-toggleable__content {max-height: 0;max-width: 0;overflow: hidden;text-align: left;background-color: #f0f8ff;}#sk-container-id-1 div.sk-toggleable__content pre {margin: 0.2em;color: black;border-radius: 0.25em;background-color: #f0f8ff;}#sk-container-id-1 input.sk-toggleable__control:checked~div.sk-toggleable__content {max-height: 200px;max-width: 100%;overflow: auto;}#sk-container-id-1 input.sk-toggleable__control:checked~label.sk-toggleable__label-arrow:before {content: \"▾\";}#sk-container-id-1 div.sk-estimator input.sk-toggleable__control:checked~label.sk-toggleable__label {background-color: #d4ebff;}#sk-container-id-1 div.sk-label input.sk-toggleable__control:checked~label.sk-toggleable__label {background-color: #d4ebff;}#sk-container-id-1 input.sk-hidden--visually {border: 0;clip: rect(1px 1px 1px 1px);clip: rect(1px, 1px, 1px, 1px);height: 1px;margin: -1px;overflow: hidden;padding: 0;position: absolute;width: 1px;}#sk-container-id-1 div.sk-estimator {font-family: monospace;background-color: #f0f8ff;border: 1px dotted black;border-radius: 0.25em;box-sizing: border-box;margin-bottom: 0.5em;}#sk-container-id-1 div.sk-estimator:hover {background-color: #d4ebff;}#sk-container-id-1 div.sk-parallel-item::after {content: \"\";width: 100%;border-bottom: 1px solid gray;flex-grow: 1;}#sk-container-id-1 div.sk-label:hover label.sk-toggleable__label {background-color: #d4ebff;}#sk-container-id-1 div.sk-serial::before {content: \"\";position: absolute;border-left: 1px solid gray;box-sizing: border-box;top: 0;bottom: 0;left: 50%;z-index: 0;}#sk-container-id-1 div.sk-serial {display: flex;flex-direction: column;align-items: center;background-color: white;padding-right: 0.2em;padding-left: 0.2em;position: relative;}#sk-container-id-1 div.sk-item {position: relative;z-index: 1;}#sk-container-id-1 div.sk-parallel {display: flex;align-items: stretch;justify-content: center;background-color: white;position: relative;}#sk-container-id-1 div.sk-item::before, #sk-container-id-1 div.sk-parallel-item::before {content: \"\";position: absolute;border-left: 1px solid gray;box-sizing: border-box;top: 0;bottom: 0;left: 50%;z-index: -1;}#sk-container-id-1 div.sk-parallel-item {display: flex;flex-direction: column;z-index: 1;position: relative;background-color: white;}#sk-container-id-1 div.sk-parallel-item:first-child::after {align-self: flex-end;width: 50%;}#sk-container-id-1 div.sk-parallel-item:last-child::after {align-self: flex-start;width: 50%;}#sk-container-id-1 div.sk-parallel-item:only-child::after {width: 0;}#sk-container-id-1 div.sk-dashed-wrapped {border: 1px dashed gray;margin: 0 0.4em 0.5em 0.4em;box-sizing: border-box;padding-bottom: 0.4em;background-color: white;}#sk-container-id-1 div.sk-label label {font-family: monospace;font-weight: bold;display: inline-block;line-height: 1.2em;}#sk-container-id-1 div.sk-label-container {text-align: center;}#sk-container-id-1 div.sk-container {/* jupyter's `normalize.less` sets `[hidden] { display: none; }` but bootstrap.min.css set `[hidden] { display: none !important; }` so we also need the `!important` here to be able to override the default hidden behavior on the sphinx rendered scikit-learn.org. See: https://github.com/scikit-learn/scikit-learn/issues/21755 */display: inline-block !important;position: relative;}#sk-container-id-1 div.sk-text-repr-fallback {display: none;}</style><div id=\"sk-container-id-1\" class=\"sk-top-container\"><div class=\"sk-text-repr-fallback\"><pre>LinearRegression()</pre><b>In a Jupyter environment, please rerun this cell to show the HTML representation or trust the notebook. <br />On GitHub, the HTML representation is unable to render, please try loading this page with nbviewer.org.</b></div><div class=\"sk-container\" hidden><div class=\"sk-item\"><div class=\"sk-estimator sk-toggleable\"><input class=\"sk-toggleable__control sk-hidden--visually\" id=\"sk-estimator-id-1\" type=\"checkbox\" checked><label for=\"sk-estimator-id-1\" class=\"sk-toggleable__label sk-toggleable__label-arrow\">LinearRegression</label><div class=\"sk-toggleable__content\"><pre>LinearRegression()</pre></div></div></div></div></div>"
      ],
      "text/plain": [
       "LinearRegression()"
      ]
     },
     "execution_count": 13,
     "metadata": {},
     "output_type": "execute_result"
    }
   ],
   "source": [
    "# step 5: Create a linear regression model\n",
    "model = LinearRegression()\n",
    "\n",
    "# Step 6: Train the model\n",
    "model.fit(X_train, y_train)"
   ]
  },
  {
   "cell_type": "code",
   "execution_count": 25,
   "id": "013642b9",
   "metadata": {},
   "outputs": [],
   "source": [
    "#step 7: Make predictions\n",
    "y_pred = model.predict(X_test)"
   ]
  },
  {
   "cell_type": "code",
   "execution_count": null,
   "id": "6d4aa299",
   "metadata": {},
   "outputs": [
    {
     "data": {
      "text/plain": [
       "array([438547.55661358, 477059.19242535, 428969.53319926, 241599.45015654,\n",
       "       176548.70780092, 178544.12934557, 218851.64454752, 153601.36003744,\n",
       "       207477.74174301, 416198.8353135 , 207677.28389748, 482247.28844144,\n",
       "       391655.15031429, 218652.10239306, 375093.15149369, 254170.60588784,\n",
       "       116486.51930693, 423182.81071977, 293879.4946264 , 305253.39743091])"
      ]
     },
     "execution_count": 26,
     "metadata": {},
     "output_type": "execute_result"
    }
   ],
   "source": []
  },
  {
   "cell_type": "code",
   "execution_count": null,
   "id": "0b5ddcfd",
   "metadata": {},
   "outputs": [
    {
     "data": {
      "text/plain": [
       "26    444483.035665\n",
       "86    477417.172852\n",
       "2     443144.140683\n",
       "55    228599.740722\n",
       "75    172017.774131\n",
       "93    196192.766407\n",
       "16    223679.744741\n",
       "73    133166.445628\n",
       "54    224647.760707\n",
       "95    432858.383628\n",
       "53    210711.434779\n",
       "92    498815.132754\n",
       "78    390675.324031\n",
       "13    219948.733161\n",
       "7     388090.761254\n",
       "30    266533.403496\n",
       "22    128161.210375\n",
       "24    433329.259575\n",
       "33    284491.030085\n",
       "8     294664.217481\n",
       "Name: House Price ($), dtype: float64"
      ]
     },
     "execution_count": 27,
     "metadata": {},
     "output_type": "execute_result"
    }
   ],
   "source": []
  },
  {
   "cell_type": "code",
   "execution_count": null,
   "id": "5b227794",
   "metadata": {},
   "outputs": [],
   "source": []
  }
 ],
 "metadata": {
  "kernelspec": {
   "display_name": "base",
   "language": "python",
   "name": "python3"
  },
  "language_info": {
   "codemirror_mode": {
    "name": "ipython",
    "version": 3
   },
   "file_extension": ".py",
   "mimetype": "text/x-python",
   "name": "python",
   "nbconvert_exporter": "python",
   "pygments_lexer": "ipython3",
   "version": "3.12.4"
  }
 },
 "nbformat": 4,
 "nbformat_minor": 5
}
